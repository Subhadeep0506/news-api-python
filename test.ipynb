{
 "cells": [
  {
   "cell_type": "code",
   "execution_count": 1,
   "metadata": {},
   "outputs": [],
   "source": [
    "from src.auth.firebase_client import FirebaseClient"
   ]
  },
  {
   "cell_type": "code",
   "execution_count": 2,
   "metadata": {},
   "outputs": [],
   "source": [
    "client = FirebaseClient()"
   ]
  },
  {
   "cell_type": "code",
   "execution_count": 3,
   "metadata": {},
   "outputs": [],
   "source": [
    "client.initialize_app()"
   ]
  },
  {
   "cell_type": "code",
   "execution_count": 4,
   "metadata": {},
   "outputs": [
    {
     "ename": "AttributeError",
     "evalue": "'FirebaseClient' object has no attribute 'user_login'",
     "output_type": "error",
     "traceback": [
      "\u001b[0;31m---------------------------------------------------------------------------\u001b[0m",
      "\u001b[0;31mAttributeError\u001b[0m                            Traceback (most recent call last)",
      "Cell \u001b[0;32mIn[4], line 1\u001b[0m\n\u001b[0;32m----> 1\u001b[0m user \u001b[38;5;241m=\u001b[39m \u001b[43mclient\u001b[49m\u001b[38;5;241;43m.\u001b[39;49m\u001b[43muser_login\u001b[49m(email\u001b[38;5;241m=\u001b[39m\u001b[38;5;124m\"\u001b[39m\u001b[38;5;124msubhadeepdoublecap@gmail.com\u001b[39m\u001b[38;5;124m\"\u001b[39m, password\u001b[38;5;241m=\u001b[39m\u001b[38;5;124m\"\u001b[39m\u001b[38;5;124mpassword\u001b[39m\u001b[38;5;124m\"\u001b[39m)\n\u001b[1;32m      2\u001b[0m \u001b[38;5;28mprint\u001b[39m(user)\n",
      "\u001b[0;31mAttributeError\u001b[0m: 'FirebaseClient' object has no attribute 'user_login'"
     ]
    }
   ],
   "source": [
    "user = client.user_login(email=\"subhadeepdoublecap@gmail.com\", password=\"password\")\n",
    "print(user)"
   ]
  },
  {
   "cell_type": "code",
   "execution_count": 6,
   "metadata": {},
   "outputs": [
    {
     "ename": "DefaultCredentialsError",
     "evalue": "Your default credentials were not found. To set up Application Default Credentials, see https://cloud.google.com/docs/authentication/external/set-up-adc for more information.",
     "output_type": "error",
     "traceback": [
      "\u001b[0;31m---------------------------------------------------------------------------\u001b[0m",
      "\u001b[0;31mDefaultCredentialsError\u001b[0m                   Traceback (most recent call last)",
      "Cell \u001b[0;32mIn[6], line 1\u001b[0m\n\u001b[0;32m----> 1\u001b[0m user, resp \u001b[38;5;241m=\u001b[39m \u001b[43mclient\u001b[49m\u001b[38;5;241;43m.\u001b[39;49m\u001b[43muser_signup\u001b[49m\u001b[43m(\u001b[49m\n\u001b[1;32m      2\u001b[0m \u001b[43m    \u001b[49m\u001b[43memail\u001b[49m\u001b[38;5;241;43m=\u001b[39;49m\u001b[38;5;124;43m\"\u001b[39;49m\u001b[38;5;124;43msubhadeepdoublecap@gmail.com\u001b[39;49m\u001b[38;5;124;43m\"\u001b[39;49m\u001b[43m,\u001b[49m\u001b[43m \u001b[49m\u001b[43mpassword\u001b[49m\u001b[38;5;241;43m=\u001b[39;49m\u001b[38;5;124;43m\"\u001b[39;49m\u001b[38;5;124;43mpassword\u001b[39;49m\u001b[38;5;124;43m\"\u001b[39;49m\u001b[43m,\u001b[49m\u001b[43m \u001b[49m\u001b[43mdisplay_name\u001b[49m\u001b[38;5;241;43m=\u001b[39;49m\u001b[38;5;124;43m\"\u001b[39;49m\u001b[38;5;124;43mname\u001b[39;49m\u001b[38;5;124;43m\"\u001b[39;49m\n\u001b[1;32m      3\u001b[0m \u001b[43m)\u001b[49m\n\u001b[1;32m      4\u001b[0m \u001b[38;5;28mprint\u001b[39m(user)\n\u001b[1;32m      5\u001b[0m \u001b[38;5;28mprint\u001b[39m()\n",
      "File \u001b[0;32m/workspaces/news-api-python/src/auth/firebase_client.py:75\u001b[0m, in \u001b[0;36mFirebaseClient.user_signup\u001b[0;34m(self, email, password, display_name)\u001b[0m\n\u001b[1;32m     73\u001b[0m \u001b[38;5;28;01mdef\u001b[39;00m \u001b[38;5;21muser_signup\u001b[39m(\u001b[38;5;28mself\u001b[39m, email: \u001b[38;5;28mstr\u001b[39m, password: \u001b[38;5;28mstr\u001b[39m, display_name: \u001b[38;5;28mstr\u001b[39m):\n\u001b[1;32m     74\u001b[0m     \u001b[38;5;28;01mtry\u001b[39;00m:\n\u001b[0;32m---> 75\u001b[0m         user \u001b[38;5;241m=\u001b[39m \u001b[43mcreate_user\u001b[49m\u001b[43m(\u001b[49m\n\u001b[1;32m     76\u001b[0m \u001b[43m            \u001b[49m\u001b[43memail\u001b[49m\u001b[38;5;241;43m=\u001b[39;49m\u001b[43memail\u001b[49m\u001b[43m,\u001b[49m\u001b[43m \u001b[49m\u001b[43mpassword\u001b[49m\u001b[38;5;241;43m=\u001b[39;49m\u001b[43mpassword\u001b[49m\u001b[43m,\u001b[49m\u001b[43m \u001b[49m\u001b[43mdisplay_name\u001b[49m\u001b[38;5;241;43m=\u001b[39;49m\u001b[43mdisplay_name\u001b[49m\n\u001b[1;32m     77\u001b[0m \u001b[43m        \u001b[49m\u001b[43m)\u001b[49m\n\u001b[1;32m     78\u001b[0m         \u001b[38;5;66;03m# if user[\"kind\"] == \"identitytoolkit#VerifyPasswordResponse\":\u001b[39;00m\n\u001b[1;32m     79\u001b[0m         \u001b[38;5;66;03m#     raise FirebaseUserNotVerifiedException(\"User not verified.\")\u001b[39;00m\n\u001b[1;32m     80\u001b[0m         \u001b[38;5;28;01mreturn\u001b[39;00m user\n",
      "File \u001b[0;32m~/.python/current/lib/python3.12/site-packages/firebase_admin/auth.py:449\u001b[0m, in \u001b[0;36mcreate_user\u001b[0;34m(**kwargs)\u001b[0m\n\u001b[1;32m    424\u001b[0m \u001b[38;5;250m\u001b[39m\u001b[38;5;124;03m\"\"\"Creates a new user account with the specified properties.\u001b[39;00m\n\u001b[1;32m    425\u001b[0m \n\u001b[1;32m    426\u001b[0m \u001b[38;5;124;03mArgs:\u001b[39;00m\n\u001b[0;32m   (...)\u001b[0m\n\u001b[1;32m    446\u001b[0m \u001b[38;5;124;03m    FirebaseError: If an error occurs while creating the user account.\u001b[39;00m\n\u001b[1;32m    447\u001b[0m \u001b[38;5;124;03m\"\"\"\u001b[39;00m\n\u001b[1;32m    448\u001b[0m app \u001b[38;5;241m=\u001b[39m kwargs\u001b[38;5;241m.\u001b[39mpop(\u001b[38;5;124m'\u001b[39m\u001b[38;5;124mapp\u001b[39m\u001b[38;5;124m'\u001b[39m, \u001b[38;5;28;01mNone\u001b[39;00m)\n\u001b[0;32m--> 449\u001b[0m client \u001b[38;5;241m=\u001b[39m \u001b[43m_get_client\u001b[49m\u001b[43m(\u001b[49m\u001b[43mapp\u001b[49m\u001b[43m)\u001b[49m\n\u001b[1;32m    450\u001b[0m \u001b[38;5;28;01mreturn\u001b[39;00m client\u001b[38;5;241m.\u001b[39mcreate_user(\u001b[38;5;241m*\u001b[39m\u001b[38;5;241m*\u001b[39mkwargs)\n",
      "File \u001b[0;32m~/.python/current/lib/python3.12/site-packages/firebase_admin/auth.py:175\u001b[0m, in \u001b[0;36m_get_client\u001b[0;34m(app)\u001b[0m\n\u001b[1;32m    159\u001b[0m \u001b[38;5;28;01mdef\u001b[39;00m \u001b[38;5;21m_get_client\u001b[39m(app):\n\u001b[1;32m    160\u001b[0m \u001b[38;5;250m    \u001b[39m\u001b[38;5;124;03m\"\"\"Returns a client instance for an App.\u001b[39;00m\n\u001b[1;32m    161\u001b[0m \n\u001b[1;32m    162\u001b[0m \u001b[38;5;124;03m    If the App already has a client associated with it, simply returns\u001b[39;00m\n\u001b[0;32m   (...)\u001b[0m\n\u001b[1;32m    173\u001b[0m \u001b[38;5;124;03m        ValueError: If the app argument is invalid.\u001b[39;00m\n\u001b[1;32m    174\u001b[0m \u001b[38;5;124;03m    \"\"\"\u001b[39;00m\n\u001b[0;32m--> 175\u001b[0m     \u001b[38;5;28;01mreturn\u001b[39;00m \u001b[43m_utils\u001b[49m\u001b[38;5;241;43m.\u001b[39;49m\u001b[43mget_app_service\u001b[49m\u001b[43m(\u001b[49m\u001b[43mapp\u001b[49m\u001b[43m,\u001b[49m\u001b[43m \u001b[49m\u001b[43m_AUTH_ATTRIBUTE\u001b[49m\u001b[43m,\u001b[49m\u001b[43m \u001b[49m\u001b[43mClient\u001b[49m\u001b[43m)\u001b[49m\n",
      "File \u001b[0;32m~/.python/current/lib/python3.12/site-packages/firebase_admin/_utils.py:98\u001b[0m, in \u001b[0;36mget_app_service\u001b[0;34m(app, name, initializer)\u001b[0m\n\u001b[1;32m     96\u001b[0m \u001b[38;5;28;01mdef\u001b[39;00m \u001b[38;5;21mget_app_service\u001b[39m(app, name, initializer):\n\u001b[1;32m     97\u001b[0m     app \u001b[38;5;241m=\u001b[39m _get_initialized_app(app)\n\u001b[0;32m---> 98\u001b[0m     \u001b[38;5;28;01mreturn\u001b[39;00m \u001b[43mapp\u001b[49m\u001b[38;5;241;43m.\u001b[39;49m\u001b[43m_get_service\u001b[49m\u001b[43m(\u001b[49m\u001b[43mname\u001b[49m\u001b[43m,\u001b[49m\u001b[43m \u001b[49m\u001b[43minitializer\u001b[49m\u001b[43m)\u001b[49m\n",
      "File \u001b[0;32m~/.python/current/lib/python3.12/site-packages/firebase_admin/__init__.py:297\u001b[0m, in \u001b[0;36mApp._get_service\u001b[0;34m(self, name, initializer)\u001b[0m\n\u001b[1;32m    294\u001b[0m     \u001b[38;5;28;01mraise\u001b[39;00m \u001b[38;5;167;01mValueError\u001b[39;00m(\n\u001b[1;32m    295\u001b[0m         \u001b[38;5;124m'\u001b[39m\u001b[38;5;124mService requested from deleted Firebase App: \u001b[39m\u001b[38;5;124m\"\u001b[39m\u001b[38;5;132;01m{0}\u001b[39;00m\u001b[38;5;124m\"\u001b[39m\u001b[38;5;124m.\u001b[39m\u001b[38;5;124m'\u001b[39m\u001b[38;5;241m.\u001b[39mformat(\u001b[38;5;28mself\u001b[39m\u001b[38;5;241m.\u001b[39m_name))\n\u001b[1;32m    296\u001b[0m \u001b[38;5;28;01mif\u001b[39;00m name \u001b[38;5;129;01mnot\u001b[39;00m \u001b[38;5;129;01min\u001b[39;00m \u001b[38;5;28mself\u001b[39m\u001b[38;5;241m.\u001b[39m_services:\n\u001b[0;32m--> 297\u001b[0m     \u001b[38;5;28mself\u001b[39m\u001b[38;5;241m.\u001b[39m_services[name] \u001b[38;5;241m=\u001b[39m \u001b[43minitializer\u001b[49m\u001b[43m(\u001b[49m\u001b[38;5;28;43mself\u001b[39;49m\u001b[43m)\u001b[49m\n\u001b[1;32m    298\u001b[0m \u001b[38;5;28;01mreturn\u001b[39;00m \u001b[38;5;28mself\u001b[39m\u001b[38;5;241m.\u001b[39m_services[name]\n",
      "File \u001b[0;32m~/.python/current/lib/python3.12/site-packages/firebase_admin/_auth_client.py:58\u001b[0m, in \u001b[0;36mClient.__init__\u001b[0;34m(self, app, tenant_id)\u001b[0m\n\u001b[1;32m     55\u001b[0m     \u001b[38;5;28mself\u001b[39m\u001b[38;5;241m.\u001b[39memulated \u001b[38;5;241m=\u001b[39m \u001b[38;5;28;01mTrue\u001b[39;00m\n\u001b[1;32m     56\u001b[0m \u001b[38;5;28;01melse\u001b[39;00m:\n\u001b[1;32m     57\u001b[0m     \u001b[38;5;66;03m# Use credentials if provided\u001b[39;00m\n\u001b[0;32m---> 58\u001b[0m     credential \u001b[38;5;241m=\u001b[39m \u001b[43mapp\u001b[49m\u001b[38;5;241;43m.\u001b[39;49m\u001b[43mcredential\u001b[49m\u001b[38;5;241;43m.\u001b[39;49m\u001b[43mget_credential\u001b[49m\u001b[43m(\u001b[49m\u001b[43m)\u001b[49m\n\u001b[1;32m     60\u001b[0m http_client \u001b[38;5;241m=\u001b[39m _http_client\u001b[38;5;241m.\u001b[39mJsonHttpClient(\n\u001b[1;32m     61\u001b[0m     credential\u001b[38;5;241m=\u001b[39mcredential, headers\u001b[38;5;241m=\u001b[39m{\u001b[38;5;124m'\u001b[39m\u001b[38;5;124mX-Client-Version\u001b[39m\u001b[38;5;124m'\u001b[39m: version_header}, timeout\u001b[38;5;241m=\u001b[39mtimeout)\n\u001b[1;32m     63\u001b[0m \u001b[38;5;28mself\u001b[39m\u001b[38;5;241m.\u001b[39m_tenant_id \u001b[38;5;241m=\u001b[39m tenant_id\n",
      "File \u001b[0;32m~/.python/current/lib/python3.12/site-packages/firebase_admin/credentials.py:142\u001b[0m, in \u001b[0;36mApplicationDefault.get_credential\u001b[0;34m(self)\u001b[0m\n\u001b[1;32m    134\u001b[0m \u001b[38;5;28;01mdef\u001b[39;00m \u001b[38;5;21mget_credential\u001b[39m(\u001b[38;5;28mself\u001b[39m):\n\u001b[1;32m    135\u001b[0m \u001b[38;5;250m    \u001b[39m\u001b[38;5;124;03m\"\"\"Returns the underlying Google credential.\u001b[39;00m\n\u001b[1;32m    136\u001b[0m \n\u001b[1;32m    137\u001b[0m \u001b[38;5;124;03m    Raises:\u001b[39;00m\n\u001b[0;32m   (...)\u001b[0m\n\u001b[1;32m    140\u001b[0m \u001b[38;5;124;03m    Returns:\u001b[39;00m\n\u001b[1;32m    141\u001b[0m \u001b[38;5;124;03m      google.auth.credentials.Credentials: A Google Auth credential instance.\"\"\"\u001b[39;00m\n\u001b[0;32m--> 142\u001b[0m     \u001b[38;5;28;43mself\u001b[39;49m\u001b[38;5;241;43m.\u001b[39;49m\u001b[43m_load_credential\u001b[49m\u001b[43m(\u001b[49m\u001b[43m)\u001b[49m\n\u001b[1;32m    143\u001b[0m     \u001b[38;5;28;01mreturn\u001b[39;00m \u001b[38;5;28mself\u001b[39m\u001b[38;5;241m.\u001b[39m_g_credential\n",
      "File \u001b[0;32m~/.python/current/lib/python3.12/site-packages/firebase_admin/credentials.py:159\u001b[0m, in \u001b[0;36mApplicationDefault._load_credential\u001b[0;34m(self)\u001b[0m\n\u001b[1;32m    157\u001b[0m \u001b[38;5;28;01mdef\u001b[39;00m \u001b[38;5;21m_load_credential\u001b[39m(\u001b[38;5;28mself\u001b[39m):\n\u001b[1;32m    158\u001b[0m     \u001b[38;5;28;01mif\u001b[39;00m \u001b[38;5;129;01mnot\u001b[39;00m \u001b[38;5;28mself\u001b[39m\u001b[38;5;241m.\u001b[39m_g_credential:\n\u001b[0;32m--> 159\u001b[0m         \u001b[38;5;28mself\u001b[39m\u001b[38;5;241m.\u001b[39m_g_credential, \u001b[38;5;28mself\u001b[39m\u001b[38;5;241m.\u001b[39m_project_id \u001b[38;5;241m=\u001b[39m \u001b[43mgoogle\u001b[49m\u001b[38;5;241;43m.\u001b[39;49m\u001b[43mauth\u001b[49m\u001b[38;5;241;43m.\u001b[39;49m\u001b[43mdefault\u001b[49m\u001b[43m(\u001b[49m\u001b[43mscopes\u001b[49m\u001b[38;5;241;43m=\u001b[39;49m\u001b[43m_scopes\u001b[49m\u001b[43m)\u001b[49m\n",
      "File \u001b[0;32m~/.python/current/lib/python3.12/site-packages/google/auth/_default.py:693\u001b[0m, in \u001b[0;36mdefault\u001b[0;34m(scopes, request, quota_project_id, default_scopes)\u001b[0m\n\u001b[1;32m    685\u001b[0m             _LOGGER\u001b[38;5;241m.\u001b[39mwarning(\n\u001b[1;32m    686\u001b[0m                 \u001b[38;5;124m\"\u001b[39m\u001b[38;5;124mNo project ID could be determined. Consider running \u001b[39m\u001b[38;5;124m\"\u001b[39m\n\u001b[1;32m    687\u001b[0m                 \u001b[38;5;124m\"\u001b[39m\u001b[38;5;124m`gcloud config set project` or setting the \u001b[39m\u001b[38;5;132;01m%s\u001b[39;00m\u001b[38;5;124m \u001b[39m\u001b[38;5;124m\"\u001b[39m\n\u001b[1;32m    688\u001b[0m                 \u001b[38;5;124m\"\u001b[39m\u001b[38;5;124menvironment variable\u001b[39m\u001b[38;5;124m\"\u001b[39m,\n\u001b[1;32m    689\u001b[0m                 environment_vars\u001b[38;5;241m.\u001b[39mPROJECT,\n\u001b[1;32m    690\u001b[0m             )\n\u001b[1;32m    691\u001b[0m         \u001b[38;5;28;01mreturn\u001b[39;00m credentials, effective_project_id\n\u001b[0;32m--> 693\u001b[0m \u001b[38;5;28;01mraise\u001b[39;00m exceptions\u001b[38;5;241m.\u001b[39mDefaultCredentialsError(_CLOUD_SDK_MISSING_CREDENTIALS)\n",
      "\u001b[0;31mDefaultCredentialsError\u001b[0m: Your default credentials were not found. To set up Application Default Credentials, see https://cloud.google.com/docs/authentication/external/set-up-adc for more information."
     ]
    }
   ],
   "source": [
    "user, resp = client.user_signup(\n",
    "    email=\"subhadeepdoublecap@gmail.com\", password=\"password\", display_name=\"name\"\n",
    ")\n",
    "print(user)\n",
    "print()\n",
    "print(resp)"
   ]
  },
  {
   "cell_type": "code",
   "execution_count": 6,
   "metadata": {},
   "outputs": [
    {
     "name": "stdout",
     "output_type": "stream",
     "text": [
      "{'kind': 'identitytoolkit#SignupNewUserResponse', 'idToken': 'eyJhbGciOiJSUzI1NiIsImtpZCI6IjhkNzU2OWQyODJkNWM1Mzk5MmNiYWZjZWI2NjBlYmQ0Y2E1OTMxM2EiLCJ0eXAiOiJKV1QifQ.eyJpc3MiOiJodHRwczovL3NlY3VyZXRva2VuLmdvb2dsZS5jb20vcHl0aG9uLW5ld3MtYXBpLTEwY2IzIiwiYXVkIjoicHl0aG9uLW5ld3MtYXBpLTEwY2IzIiwiYXV0aF90aW1lIjoxNzI4MTU0NjEzLCJ1c2VyX2lkIjoiUnlaMTFYc2wwWlhTQWhTR29yZUo1SFNlb1JXMiIsInN1YiI6IlJ5WjExWHNsMFpYU0FoU0dvcmVKNUhTZW9SVzIiLCJpYXQiOjE3MjgxNTQ2MTMsImV4cCI6MTcyODE1ODIxMywiZW1haWwiOiJzdWJoYWRlZXBkb3VibGVjYXBAZ21haWwuY29tIiwiZW1haWxfdmVyaWZpZWQiOmZhbHNlLCJmaXJlYmFzZSI6eyJpZGVudGl0aWVzIjp7ImVtYWlsIjpbInN1YmhhZGVlcGRvdWJsZWNhcEBnbWFpbC5jb20iXX0sInNpZ25faW5fcHJvdmlkZXIiOiJwYXNzd29yZCJ9fQ.3gENrczOey7Yz_p-H5GWspubo5fanHxHmZcnWbltK1CT3vyhMsdqo4TLwzo95ALFEcgLn0lyM40KDnoQ6siS_5FefOSmfYFcDAcd3pzcGYGtv_X_tOqOmO9vnBj4oIz3LebCf4tBa6U1PDgxdW5T-uslErLxm7JGSup6POZHc9vaO0HUhhQWQEpKtGmTXWGgXspZXzccVuPkq_-Qbs3XJy_EyNSCaye7ITGkq_HZEzUCFmltG2G3rdoV8a-UuPmU-5YqfbXD_QjKABfEzo9h_dRRVwudg1WHjgBJoG6lGtr0quCrgsFbtAxfpI8KF5q1NGw6VFutZooHrIEodLiPNQ', 'email': 'subhadeepdoublecap@gmail.com', 'refreshToken': 'AMf-vBwpG7QmRVh-2ebkFYyMU4StHeJnKwmBTbXCwkiXSMLAE_NHV-eTCZogqXfdUaH6xUbQ4zYUSRf0dUwiUoxsZdkGCAwGHzZoovVQFh1Tr8EE_UjlvPEBe9ocNihb7Q1hQFTuZe8gf9Vq6ZgUfjd7xL-HKkYs-FAxdN8kbdL_mD90RyAQ6qnPL8xqnB9jSAfiAIkIHygiObumDIWuC89YCUVHb83iOr3RcpAVNjhFx_sEh7EpeE8', 'expiresIn': '3600', 'localId': 'RyZ11Xsl0ZXSAhSGoreJ5HSeoRW2'}\n"
     ]
    }
   ],
   "source": [
    "fetched_user = client.get_user_information(client.firebase.auth(), user)\n",
    "print(user)"
   ]
  },
  {
   "cell_type": "code",
   "execution_count": null,
   "metadata": {},
   "outputs": [],
   "source": [
    "{\n",
    "    \"kind\": \"identitytoolkit#VerifyPasswordResponse\",\n",
    "    \"localId\": \"RyZ11Xsl0ZXSAhSGoreJ5HSeoRW2\",\n",
    "    \"email\": \"subhadeepdoublecap@gmail.com\",\n",
    "    \"displayName\": \"\",\n",
    "    \"idToken\": \"eyJhbGciOiJSUzI1NiIsImtpZCI6IjhkNzU2OWQyODJkNWM1Mzk5MmNiYWZjZWI2NjBlYmQ0Y2E1OTMxM2EiLCJ0eXAiOiJKV1QifQ.eyJpc3MiOiJodHRwczovL3NlY3VyZXRva2VuLmdvb2dsZS5jb20vcHl0aG9uLW5ld3MtYXBpLTEwY2IzIiwiYXVkIjoicHl0aG9uLW5ld3MtYXBpLTEwY2IzIiwiYXV0aF90aW1lIjoxNzI4MTU0Njc4LCJ1c2VyX2lkIjoiUnlaMTFYc2wwWlhTQWhTR29yZUo1SFNlb1JXMiIsInN1YiI6IlJ5WjExWHNsMFpYU0FoU0dvcmVKNUhTZW9SVzIiLCJpYXQiOjE3MjgxNTQ2NzgsImV4cCI6MTcyODE1ODI3OCwiZW1haWwiOiJzdWJoYWRlZXBkb3VibGVjYXBAZ21haWwuY29tIiwiZW1haWxfdmVyaWZpZWQiOmZhbHNlLCJmaXJlYmFzZSI6eyJpZGVudGl0aWVzIjp7ImVtYWlsIjpbInN1YmhhZGVlcGRvdWJsZWNhcEBnbWFpbC5jb20iXX0sInNpZ25faW5fcHJvdmlkZXIiOiJwYXNzd29yZCJ9fQ.MqYb-geFMGO96nv6DPhrB4YstekOuA3DW8nlI_HFx4j8gFmqlrKRd1x3ltomP8RLBBJRHIyf4zwTewatxsQA2ecofByC5jaivwc8wN1pu0EbzIEbe1ErzPfiF2hcxQlMbakRxGe93WmJi8UEgoznT1WJkoFt34SlB6P-rst2ye0_DdV8Tu7a25G8U_0wWlqGplTMBHAb3Zr7kjDiil3jea9nnQIeR2PU8790jWewwFAlu2oL-MCXsW77_WJxn1ajsCt4qUohoqOY52VhVhEf0QLwbHgDyOqKRmiZ8QG6myEMU-aEfRuFpsU4PmvgNBpjrFVPQiGoVgAHXzi2UVONqw\",\n",
    "    \"registered\": True,\n",
    "    \"refreshToken\": \"AMf-vBxKux6ucSM0njgEK57gvW2AgAkWIvDgqt6eHBlXtpecikwEQP29O1vEVvXIVSRIJkIoMjyH8iBp_RIqN3DBogrfeiyetjt8STfHeTA93-jWacK9LN9XIoTg1C1D7E6rRcg4WQxyksIfxmscdbKmA3VCEeuDYZlagWysdqnVG75gCMmB7EY1VHZHAbzzNp0tDMn1QcjhMr-CuVO1yBsYfDlCX1PWaK8l5IOu9670gU8S354oE-o\",\n",
    "    \"expiresIn\": \"3600\",\n",
    "}"
   ]
  }
 ],
 "metadata": {
  "kernelspec": {
   "display_name": "Python 3",
   "language": "python",
   "name": "python3"
  },
  "language_info": {
   "codemirror_mode": {
    "name": "ipython",
    "version": 3
   },
   "file_extension": ".py",
   "mimetype": "text/x-python",
   "name": "python",
   "nbconvert_exporter": "python",
   "pygments_lexer": "ipython3",
   "version": "3.12.1"
  }
 },
 "nbformat": 4,
 "nbformat_minor": 2
}
